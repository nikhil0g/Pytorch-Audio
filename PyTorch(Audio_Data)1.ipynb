{
 "cells": [
  {
   "cell_type": "markdown",
   "id": "1f52cb50",
   "metadata": {},
   "source": [
    "# Understand audio data and concepts\n",
    "## Audio data\n",
    "### We need to first get a better understanding of our audio data. Here, we'll look at some key concepts and features of audio data.\n",
    "\n",
    "### An audio signal is the vibration generated when sound passes through air. For audio, when sound is captured from a microphone, it's in analog form. The analog sound is converted to digital sound format by sampling at consistent intervals of time. The number of audio data points recorded every second is called the sample rate.\n",
    "\n",
    "### The higher the sample rate, the higher the quality of the sound. However, after a certain point, the human ear can't detect the difference.\n",
    "### The average sound sample rate is 48 kilohertz (KHz) or 48,000 samples per second. The dataset we'll be using in this module was sampled at 16 KHz, so our sample rate is 16,000.\n"
   ]
  },
  {
   "cell_type": "markdown",
   "id": "7c867dc6",
   "metadata": {},
   "source": [
    "### When the audio is sampled, the frequency of the sound is the number of times per second that a sound wave repeats itself. The amplitude is how loud the audio is. We can take our sample rate and frequency, and represent the signal visually. This visual signal can be represented as a waveform, which is the signal representation over time in a graphical format. The audio can be recorded in different channels. For example, stereo recordings have two channels, right and left.\n",
    "\n",
    "### Now let's take a moment to understand how we might want to parse out a file. For example, if you have longer audio files, you might want to split it out into frames, or sections, of the audio to be classified individually. For this dataset, we don't need to set any frames of our audio samples, because each sample is only one second and one word. Another processing step might be an offset, which means the number of frames from the start of the file to begin data loading."
   ]
  },
  {
   "cell_type": "markdown",
   "id": "c410fd93",
   "metadata": {},
   "source": [
    "## Get set up with TorchAudio\n",
    "### TorchAudio is a library that is part of the PyTorch ecosystem. It has I/O functionality, popular open datasets, and common audio transformations that we'll need to build our model. We will use this library to work with our audio data.\n",
    "\n",
    "### Let's get started! First, we'll import the packages needed:"
   ]
  },
  {
   "cell_type": "code",
   "execution_count": 1,
   "id": "3219040e",
   "metadata": {},
   "outputs": [
    {
     "name": "stdout",
     "output_type": "stream",
     "text": [
      "Requirement already satisfied: torch in /home/nikhil/anaconda3/envs/pytorch/lib/python3.10/site-packages (from -r https://raw.githubusercontent.com/MicrosoftDocs/pytorchfundamentals/main/audio-pytorch/install-packages.txt (line 1)) (1.11.0)\n",
      "Collecting torchaudio\n",
      "  Downloading torchaudio-0.11.0-cp310-cp310-manylinux1_x86_64.whl (2.9 MB)\n",
      "\u001b[K     |████████████████████████████████| 2.9 MB 1.4 MB/s eta 0:00:01\n",
      "\u001b[?25hCollecting soundfile\n",
      "  Downloading SoundFile-0.10.3.post1-py2.py3-none-any.whl (21 kB)\n",
      "Collecting sox\n",
      "  Downloading sox-1.4.1-py2.py3-none-any.whl (39 kB)\n",
      "Requirement already satisfied: typing-extensions in /home/nikhil/anaconda3/envs/pytorch/lib/python3.10/site-packages (from torch->-r https://raw.githubusercontent.com/MicrosoftDocs/pytorchfundamentals/main/audio-pytorch/install-packages.txt (line 1)) (4.1.1)\n",
      "Requirement already satisfied: cffi>=1.0 in /home/nikhil/anaconda3/envs/pytorch/lib/python3.10/site-packages (from soundfile->-r https://raw.githubusercontent.com/MicrosoftDocs/pytorchfundamentals/main/audio-pytorch/install-packages.txt (line 3)) (1.15.0)\n",
      "Requirement already satisfied: numpy>=1.9.0 in /home/nikhil/anaconda3/envs/pytorch/lib/python3.10/site-packages (from sox->-r https://raw.githubusercontent.com/MicrosoftDocs/pytorchfundamentals/main/audio-pytorch/install-packages.txt (line 4)) (1.23.0)\n",
      "Requirement already satisfied: pycparser in /home/nikhil/anaconda3/envs/pytorch/lib/python3.10/site-packages (from cffi>=1.0->soundfile->-r https://raw.githubusercontent.com/MicrosoftDocs/pytorchfundamentals/main/audio-pytorch/install-packages.txt (line 3)) (2.21)\n",
      "Installing collected packages: torchaudio, sox, soundfile\n",
      "Successfully installed soundfile-0.10.3.post1 sox-1.4.1 torchaudio-0.11.0\n"
     ]
    }
   ],
   "source": [
    "!pip install -r https://raw.githubusercontent.com/MicrosoftDocs/pytorchfundamentals/main/audio-pytorch/install-packages.txt"
   ]
  },
  {
   "cell_type": "code",
   "execution_count": 3,
   "id": "177d77a8",
   "metadata": {},
   "outputs": [
    {
     "name": "stdout",
     "output_type": "stream",
     "text": [
      "Collecting matplotlib\n",
      "  Using cached matplotlib-3.5.2-cp310-cp310-manylinux_2_17_x86_64.manylinux2014_x86_64.whl (11.9 MB)\n",
      "Collecting fonttools>=4.22.0\n",
      "  Using cached fonttools-4.33.3-py3-none-any.whl (930 kB)\n",
      "Requirement already satisfied: packaging>=20.0 in /home/nikhil/anaconda3/envs/pytorch/lib/python3.10/site-packages (from matplotlib) (21.3)\n",
      "Requirement already satisfied: numpy>=1.17 in /home/nikhil/anaconda3/envs/pytorch/lib/python3.10/site-packages (from matplotlib) (1.23.0)\n",
      "Requirement already satisfied: pyparsing>=2.2.1 in /home/nikhil/anaconda3/envs/pytorch/lib/python3.10/site-packages (from matplotlib) (3.0.4)\n",
      "Collecting kiwisolver>=1.0.1\n",
      "  Downloading kiwisolver-1.4.3-cp310-cp310-manylinux_2_12_x86_64.manylinux2010_x86_64.whl (1.6 MB)\n",
      "\u001b[K     |████████████████████████████████| 1.6 MB 1.0 MB/s eta 0:00:01\n",
      "\u001b[?25hRequirement already satisfied: pillow>=6.2.0 in /home/nikhil/anaconda3/envs/pytorch/lib/python3.10/site-packages (from matplotlib) (9.1.1)\n",
      "Requirement already satisfied: python-dateutil>=2.7 in /home/nikhil/anaconda3/envs/pytorch/lib/python3.10/site-packages (from matplotlib) (2.8.2)\n",
      "Collecting cycler>=0.10\n",
      "  Using cached cycler-0.11.0-py3-none-any.whl (6.4 kB)\n",
      "Requirement already satisfied: six>=1.5 in /home/nikhil/anaconda3/envs/pytorch/lib/python3.10/site-packages (from python-dateutil>=2.7->matplotlib) (1.16.0)\n",
      "Installing collected packages: kiwisolver, fonttools, cycler, matplotlib\n",
      "Successfully installed cycler-0.11.0 fonttools-4.33.3 kiwisolver-1.4.3 matplotlib-3.5.2\n"
     ]
    }
   ],
   "source": [
    "!pip install matplotlib"
   ]
  },
  {
   "cell_type": "code",
   "execution_count": 4,
   "id": "209db471",
   "metadata": {},
   "outputs": [],
   "source": [
    "# import the packages\n",
    "import os\n",
    "import torchaudio\n",
    "import IPython.display as ipd\n",
    "import matplotlib.pyplot as plt"
   ]
  },
  {
   "cell_type": "markdown",
   "id": "087bbf90",
   "metadata": {},
   "source": [
    "## Get the speech commands dataset\n",
    "### PyTorch has a variety of sample datasets available, which is helpful when you're trying to learn and play around with different audio models. We will use the speech commands sample dataset, and download the full dataset in a local directory. Note that we're only using the yes and no classes to create a binary classification model.\n",
    "\n"
   ]
  },
  {
   "cell_type": "markdown",
   "id": "45f588f6",
   "metadata": {},
   "source": [
    "### Create a data folder"
   ]
  },
  {
   "cell_type": "code",
   "execution_count": 5,
   "id": "54c3bd15",
   "metadata": {},
   "outputs": [
    {
     "name": "stdout",
     "output_type": "stream",
     "text": [
      "Data directory will be: /home/nikhil/pytorch_practice/data\n",
      "Data folder exists.\n"
     ]
    }
   ],
   "source": [
    "default_dir = os.getcwd()\n",
    "folder = 'data'\n",
    "print(f'Data directory will be: {default_dir}/{folder}')\n",
    "\n",
    "if os.path.isdir(folder):\n",
    "    print(\"Data folder exists.\")\n",
    "else:\n",
    "    print(\"Creating folder.\")\n",
    "    os.mkdir(folder) "
   ]
  },
  {
   "cell_type": "markdown",
   "id": "6ad69923",
   "metadata": {},
   "source": [
    "### Download the dataset to the data folder"
   ]
  },
  {
   "cell_type": "markdown",
   "id": "c7099612",
   "metadata": {},
   "source": [
    "### We'll use torchaudio to download the dataset files to a local folder. PyTorch provides multiple sample image, text, and audio datasets. We'll be using the SPEECHCOMMANDS dataset from the torchaudio library."
   ]
  },
  {
   "cell_type": "code",
   "execution_count": 7,
   "id": "07a43c45",
   "metadata": {
    "scrolled": true
   },
   "outputs": [
    {
     "name": "stderr",
     "output_type": "stream",
     "text": [
      "100%|██████████| 2.26G/2.26G [49:18<00:00, 821kB/s]    \n"
     ]
    }
   ],
   "source": [
    "trainset_speechcommands = torchaudio.datasets.SPEECHCOMMANDS(f'./{folder}/', download=True)"
   ]
  },
  {
   "cell_type": "markdown",
   "id": "0bfbfc05",
   "metadata": {},
   "source": [
    "### Visualize the classes available in the dataset"
   ]
  },
  {
   "cell_type": "markdown",
   "id": "c322664d",
   "metadata": {},
   "source": [
    "### There are 36 audio classes in the speech commands dataset, each sampled at 16 KHz. Let's print the different commands available. The two classes we'll be using are the yes and no commands."
   ]
  },
  {
   "cell_type": "code",
   "execution_count": 8,
   "id": "fb51f612",
   "metadata": {},
   "outputs": [
    {
     "name": "stdout",
     "output_type": "stream",
     "text": [
      "Total Labels: 36 \n",
      "\n",
      "Label Names: ['off', 'right', 'visual', 'backward', 'eight', 'three', 'follow', 'no', 'forward', 'down', 'house', 'up', 'wow', 'happy', 'marvin', 'cat', 'bed', 'stop', 'learn', 'bird', 'one', 'six', 'yes', 'dog', 'nine', 'tree', 'four', 'two', '_background_noise_', 'seven', 'go', 'left', 'sheila', 'on', 'zero', 'five']\n"
     ]
    }
   ],
   "source": [
    "os.chdir(f'./{folder}/SpeechCommands/speech_commands_v0.02/')\n",
    "labels = [name for name in os.listdir('.') if os.path.isdir(name)]\n",
    "# back to default directory\n",
    "os.chdir(default_dir)\n",
    "print(f'Total Labels: {len(labels)} \\n')\n",
    "print(f'Label Names: {labels}')"
   ]
  },
  {
   "cell_type": "markdown",
   "id": "6bc80bcc",
   "metadata": {},
   "source": [
    "## Convert the sound to tensor\n",
    "### You likely have used a wave file before. It's one format in which we save our digital representation of our analog audio to be shared and played. The speech commands dataset that we will be using in this tutorial is stored in wave files that are all one second or less.\n",
    "\n",
    "### Let's load up one of the wave files and take a look at how the tensors for the waveform look. We're loading the files by using torchaudio.load, which loads an audio file into a torch.Tensor object. TorchAudio takes care of the implementation, so you don't need to worry about it. The torch.load function returns the waveform as a tensor, and an int of the sample_rate."
   ]
  },
  {
   "cell_type": "code",
   "execution_count": 9,
   "id": "ac6694bd",
   "metadata": {},
   "outputs": [
    {
     "name": "stdout",
     "output_type": "stream",
     "text": [
      "waveform tensor with 3 frames:  tensor([[0.0005, 0.0007, 0.0005]]) \n",
      "\n",
      "waveform tensor with 2 frame_offsets: tensor([[0.0005, 0.0004, 0.0007]]) \n",
      "\n",
      "waveform tensor:  tensor([[0.0005, 0.0007, 0.0005,  ..., 0.0008, 0.0008, 0.0007]])\n"
     ]
    }
   ],
   "source": [
    "filename = \"./data/SpeechCommands/speech_commands_v0.02/yes/00f0204f_nohash_0.wav\"\n",
    "waveform, sample_rate = torchaudio.load(filepath=filename, num_frames=3)\n",
    "print(f'waveform tensor with 3 frames:  {waveform} \\n')\n",
    "waveform, sample_rate = torchaudio.load(filepath=filename, num_frames=3, frame_offset =2)\n",
    "print(f'waveform tensor with 2 frame_offsets: {waveform} \\n')\n",
    "waveform, sample_rate = torchaudio.load(filepath=filename)\n",
    "print(f'waveform tensor:  {waveform}' )"
   ]
  },
  {
   "cell_type": "markdown",
   "id": "2a269b54",
   "metadata": {},
   "source": [
    "## Plot the waveform\n",
    "### Next, create a plot_audio function to display the waveform, and listen to a sample of each class."
   ]
  },
  {
   "cell_type": "code",
   "execution_count": 10,
   "id": "bd6d7cb6",
   "metadata": {},
   "outputs": [],
   "source": [
    "def plot_audio(filename):\n",
    "    waveform, sample_rate = torchaudio.load(filename)\n",
    "\n",
    "    print(\"Shape of waveform: {}\".format(waveform.size()))\n",
    "    print(\"Sample rate of waveform: {}\".format(sample_rate))\n",
    "\n",
    "    plt.figure()\n",
    "    plt.plot(waveform.t().numpy())\n",
    "\n",
    "    return waveform, sample_rate"
   ]
  },
  {
   "cell_type": "markdown",
   "id": "2d73ec77",
   "metadata": {},
   "source": [
    "### The size of the audio is 1 x 16000. This means that it's 1 second long, at a sample rate of 16000. We can see the graphical waveform of the sound pattern captured, and play the audio for the yes command."
   ]
  },
  {
   "cell_type": "code",
   "execution_count": 11,
   "id": "a0186ff0",
   "metadata": {},
   "outputs": [
    {
     "name": "stdout",
     "output_type": "stream",
     "text": [
      "Shape of waveform: torch.Size([1, 16000])\n",
      "Sample rate of waveform: 16000\n"
     ]
    },
    {
     "data": {
      "text/html": [
       "\n",
       "                <audio  controls=\"controls\" >\n",
       "                    <source src=\"data:audio/wav;base64,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\" type=\"audio/wav\" />\n",
       "                    Your browser does not support the audio element.\n",
       "                </audio>\n",
       "              "
      ],
      "text/plain": [
       "<IPython.lib.display.Audio object>"
      ]
     },
     "execution_count": 11,
     "metadata": {},
     "output_type": "execute_result"
    },
    {
     "data": {
      "image/png": "[encoded data removed]",
      "text/plain": [
       "<Figure size 432x288 with 1 Axes>"
      ]
     },
     "metadata": {
      "needs_background": "light"
     },
     "output_type": "display_data"
    }
   ],
   "source": [
    "filename = \"./data/SpeechCommands/speech_commands_v0.02/yes/00f0204f_nohash_0.wav\"\n",
    "waveform, sample_rate = plot_audio(filename)\n",
    "ipd.Audio(waveform.numpy(), rate=sample_rate)"
   ]
  },
  {
   "cell_type": "code",
   "execution_count": null,
   "id": "54df64bb",
   "metadata": {},
   "outputs": [],
   "source": []
  }
 ],
 "metadata": {
  "kernelspec": {
   "display_name": "Python 3 (ipykernel)",
   "language": "python",
   "name": "python3"
  },
  "language_info": {
   "codemirror_mode": {
    "name": "ipython",
    "version": 3
   },
   "file_extension": ".py",
   "mimetype": "text/x-python",
   "name": "python",
   "nbconvert_exporter": "python",
   "pygments_lexer": "ipython3",
   "version": "3.10.4"
  }
 },
 "nbformat": 4,
 "nbformat_minor": 5
}
